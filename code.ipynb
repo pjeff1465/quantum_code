{
 "cells": [
  {
   "cell_type": "code",
   "execution_count": null,
   "metadata": {},
   "outputs": [],
   "source": [
    "pip install qiskit"
   ]
  },
  {
   "cell_type": "code",
   "execution_count": null,
   "metadata": {},
   "outputs": [],
   "source": [
    "pip install \"qiskit[visualization]\" pylatexenc matplotlib # library in order to use mpl graph"
   ]
  },
  {
   "cell_type": "code",
   "execution_count": null,
   "metadata": {},
   "outputs": [],
   "source": [
    "pip install matplotlib"
   ]
  },
  {
   "cell_type": "code",
   "execution_count": null,
   "metadata": {},
   "outputs": [],
   "source": [
    "pip install qiskit-aer # for Aer module, needed for qubit measurement (simulation on quantum computer)"
   ]
  },
  {
   "cell_type": "code",
   "execution_count": 2,
   "metadata": {},
   "outputs": [
    {
     "data": {
      "text/html": [
       "<pre style=\"word-wrap: normal;white-space: pre;background: #fff0;line-height: 1.1;font-family: &quot;Courier New&quot;,Courier,monospace\">        ┌───┐      ░ ┌─┐   \n",
       "   q_0: ┤ H ├──■───░─┤M├───\n",
       "        └───┘┌─┴─┐ ░ └╥┘┌─┐\n",
       "   q_1: ─────┤ X ├─░──╫─┤M├\n",
       "             └───┘ ░  ║ └╥┘\n",
       "meas: 2/══════════════╩══╩═\n",
       "                      0  1 </pre>"
      ],
      "text/plain": [
       "        ┌───┐      ░ ┌─┐   \n",
       "   q_0: ┤ H ├──■───░─┤M├───\n",
       "        └───┘┌─┴─┐ ░ └╥┘┌─┐\n",
       "   q_1: ─────┤ X ├─░──╫─┤M├\n",
       "             └───┘ ░  ║ └╥┘\n",
       "meas: 2/══════════════╩══╩═\n",
       "                      0  1 "
      ]
     },
     "execution_count": 2,
     "metadata": {},
     "output_type": "execute_result"
    }
   ],
   "source": [
    "from qiskit import QuantumCircuit\n",
    "circuit = QuantumCircuit(2)\n",
    "circuit.h(0) # add hadamard gate on qubit 0\n",
    "circuit.cx(0, 1) # add CNOT gate with qubit 0 as control bit and qubit 1 as control bit\n",
    "circuit.draw()\n",
    "circuit.measure_all() # measure final qubit state\n",
    "circuit.draw() # drawing with text symbols"
   ]
  },
  {
   "cell_type": "code",
   "execution_count": 6,
   "metadata": {},
   "outputs": [
    {
     "data": {
      "image/png": "[encoded data removed]",
      "text/plain": [
       "<Figure size 203.683x200.667 with 1 Axes>"
      ]
     },
     "execution_count": 6,
     "metadata": {},
     "output_type": "execute_result"
    }
   ],
   "source": [
    "from qiskit import QuantumCircuit\n",
    "ck = QuantumCircuit(2)\n",
    "ck.qubits\n",
    "ck.x(0) # add x-gate to qubit 0 \n",
    "ck.qubits\n",
    "\n",
    "ck.draw(\"mpl\") # different version of ckt drawing (Pictures)"
   ]
  },
  {
   "cell_type": "code",
   "execution_count": 7,
   "metadata": {},
   "outputs": [
    {
     "data": {
      "image/png": "[encoded data removed]",
      "text/plain": [
       "<Figure size 185.453x117.056 with 1 Axes>"
      ]
     },
     "execution_count": 7,
     "metadata": {},
     "output_type": "execute_result"
    }
   ],
   "source": [
    "from qiskit.circuit.library import HGate\n",
    "\n",
    "qc = QuantumCircuit(1) # Quantum ckt with 1 qubit\n",
    "qc.append(\n",
    "    HGate(), # add HGate\n",
    "    [0], # apply to qubit 0\n",
    ")\n",
    "qc.draw(\"mpl\")"
   ]
  },
  {
   "cell_type": "markdown",
   "metadata": {},
   "source": [
    "# Measuring Qubits\n",
    "$|q\\rangle $  $ \\rightarrow_{measure} $ $ \\begin{cases}\n",
    "0 & \\text{(outcome +1), with probability } p_0 = |\\langle q|0\\rangle|^2, \\\\\n",
    "1 & \\text{(outcome -1), with probability } p_1 = |\\langle q|1\\rangle|^2\n",
    "\\end{cases}$"
   ]
  },
  {
   "cell_type": "code",
   "execution_count": 12,
   "metadata": {},
   "outputs": [
    {
     "data": {
      "image/png": "[encoded data removed]",
      "text/plain": [
       "<Figure size 621.941x535.111 with 1 Axes>"
      ]
     },
     "execution_count": 12,
     "metadata": {},
     "output_type": "execute_result"
    }
   ],
   "source": [
    "p = QuantumCircuit(5, 5) # creates quantum ckt with 5 qubits and 5 classical bits, initially set to 0\n",
    "p.x(0) # applies X gate to qubit 0 \n",
    "p.x(1)\n",
    "p.x(4)\n",
    "p.draw(\"mpl\")\n",
    "p.measure(range(5), range(5))\n",
    "p.draw(\"mpl\")"
   ]
  },
  {
   "cell_type": "code",
   "execution_count": null,
   "metadata": {},
   "outputs": [
    {
     "data": {
      "image/png": "[encoded data removed]",
      "text/plain": [
       "<Figure size 287.496x367.889 with 1 Axes>"
      ]
     },
     "execution_count": 13,
     "metadata": {},
     "output_type": "execute_result"
    }
   ],
   "source": [
    "# create a quantum ckt with 3 qubits and 1 classical bit\n",
    "# classical bits are used to store the results of measurements made on qubits\n",
    "m = QuantumCircuit(3, 1)\n",
    "m.x([0, 2]) # apply Pauli_X gate (NOT gate) to qubits 0 and 2 (X-gate: Flips state of qubit)\n",
    "m.measure(1, 0) # Measure qubit 1 and store result in classical bit 0 \n",
    "m.draw(\"mpl\")\n",
    "# drawing shows there is 1 classical bit and then after the measurement is applied it is \n",
    "# stored in classical bit 0\n",
    "# this does not give us the actual result of the measurment"
   ]
  },
  {
   "cell_type": "markdown",
   "metadata": {},
   "source": [
    "# Simulate quantum circuit on quantum computer\n",
    "- Using same circuit as above"
   ]
  },
  {
   "cell_type": "code",
   "execution_count": 14,
   "metadata": {},
   "outputs": [
    {
     "ename": "ImportError",
     "evalue": "cannot import name 'Aer' from 'qiskit' (/Users/admin/Library/Python/3.9/lib/python/site-packages/qiskit/__init__.py)",
     "output_type": "error",
     "traceback": [
      "\u001b[0;31m---------------------------------------------------------------------------\u001b[0m",
      "\u001b[0;31mImportError\u001b[0m                               Traceback (most recent call last)",
      "Cell \u001b[0;32mIn[14], line 1\u001b[0m\n\u001b[0;32m----> 1\u001b[0m \u001b[38;5;28;01mfrom\u001b[39;00m\u001b[38;5;250m \u001b[39m\u001b[38;5;21;01mqiskit\u001b[39;00m\u001b[38;5;250m \u001b[39m\u001b[38;5;28;01mimport\u001b[39;00m QuantumCircuit, Aer, execute\n\u001b[1;32m      3\u001b[0m m \u001b[38;5;241m=\u001b[39m QuantumCircuit(\u001b[38;5;241m3\u001b[39m, \u001b[38;5;241m1\u001b[39m)\n\u001b[1;32m      4\u001b[0m m\u001b[38;5;241m.\u001b[39mx([\u001b[38;5;241m0\u001b[39m,\u001b[38;5;241m2\u001b[39m])\n",
      "\u001b[0;31mImportError\u001b[0m: cannot import name 'Aer' from 'qiskit' (/Users/admin/Library/Python/3.9/lib/python/site-packages/qiskit/__init__.py)"
     ]
    }
   ],
   "source": [
    "from qiskit import QuantumCircuit, Aer, execute\n",
    "\n",
    "m = QuantumCircuit(3, 1)\n",
    "m.x([0,2])\n",
    "m.measure(1,0)\n",
    "\n",
    "# Choose a backend (simulator or real quantum computer)\n",
    "simulator = Aer.get_backend('qasm_simulator') # local simulator\n",
    "\n",
    "result = job.result()\n",
    "counts = result.get_counts(m)\n",
    "\n",
    "print(counts)\n",
    "m.draw(\"mpl\")\n"
   ]
  }
 ],
 "metadata": {
  "kernelspec": {
   "display_name": "Python 3",
   "language": "python",
   "name": "python3"
  },
  "language_info": {
   "codemirror_mode": {
    "name": "ipython",
    "version": 3
   },
   "file_extension": ".py",
   "mimetype": "text/x-python",
   "name": "python",
   "nbconvert_exporter": "python",
   "pygments_lexer": "ipython3",
   "version": "3.9.6"
  }
 },
 "nbformat": 4,
 "nbformat_minor": 2
}
